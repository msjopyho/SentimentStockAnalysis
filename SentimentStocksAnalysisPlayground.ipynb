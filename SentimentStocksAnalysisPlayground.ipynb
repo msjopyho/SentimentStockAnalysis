{
 "cells": [
  {
   "cell_type": "code",
   "execution_count": 1,
   "id": "2a048a5b-2941-4459-b9d3-c757ded37e5e",
   "metadata": {},
   "outputs": [
    {
     "name": "stdout",
     "output_type": "stream",
     "text": [
      "0\n"
     ]
    },
    {
     "data": {
      "text/plain": [
       "<Figure size 10000x8000 with 0 Axes>"
      ]
     },
     "metadata": {},
     "output_type": "display_data"
    },
    {
     "data": {
      "image/png": "[encoded data removed]",
      "text/plain": [
       "<Figure size 640x480 with 1 Axes>"
      ]
     },
     "metadata": {},
     "output_type": "display_data"
    }
   ],
   "source": [
    "import requests\n",
    "import pandas as pd\n",
    "from nltk.sentiment.vader import SentimentIntensityAnalyzer\n",
    "import matplotlib.pyplot as plt\n",
    "\n",
    "headers = {\n",
    "    'user-agent': 'my-app'\n",
    "}\n",
    "\n",
    "\n",
    "def main(url):\n",
    "    with requests.Session() as req:\n",
    "        req.headers.update(headers)\n",
    "        allin = []\n",
    "        for t in ['AMZN','NFLX', 'AAPL', 'TSLA']:\n",
    "            params = {\n",
    "                't': t\n",
    "            }\n",
    "            r = req.get(url, params=params)\n",
    "            df = pd.read_html(r.content, attrs={'id': 'news-table'})[0]\n",
    "            df[2] = t\n",
    "            allin.append(df)\n",
    "        df = pd.concat(allin, ignore_index=True)\n",
    "        #print(df[2])\n",
    "        #df.to_csv('data.csv', index=False)\n",
    "        ###create loop to define day versus time###\n",
    "        day = 0 #define to be used in loop\n",
    "        time = 0 #defined to be used in loop\n",
    "        print(day)\n",
    "\n",
    "        parsed_data = []\n",
    "        for i, row in df.iterrows():\n",
    "            title = df[1].iloc[i]\n",
    "            ticker = df[2].iloc[i]\n",
    "            date_data = df.iloc[i][0].split(' ')\n",
    "            if len(date_data) == 2:\n",
    "                day = date_data[0]\n",
    "                time = date_data[1]\n",
    "            else:\n",
    "                time = date_data[0]\n",
    "\n",
    "            parsed_data.append([day, time, ticker, title])\n",
    "\n",
    "        data = pd.DataFrame(parsed_data, columns=['date', 'time', 'ticker', 'title'])\n",
    "        data.drop(index=data.index[0], axis=0, inplace=True)\n",
    "        \n",
    "        # \"\"\"apply sentiment analysis\"\"\"\n",
    "        \n",
    "        vader = SentimentIntensityAnalyzer()\n",
    "\n",
    "        #defining lambda function\n",
    "        #compound is used to ignore \"negative, positive, neutral\" statements and only provide value\n",
    "        f = lambda title: vader.polarity_scores(title)['compound'] \n",
    "        data['compound'] = data['title'].apply(f)\n",
    "        data['date'] = pd.to_datetime(data['date']).dt.date\n",
    "\n",
    "        plt.figure(figsize=(100,80))\n",
    "        plt.style.use('dark_background') #altered look\n",
    "        mean_df = data.groupby(['ticker', 'date']).mean().unstack()\n",
    "        mean_df = mean_df.xs('compound', axis=\"columns\").transpose()\n",
    "        mean_df.plot(kind='bar')\n",
    "        plt.show()\n",
    "\n",
    "main('https://finviz.com/quote.ashx')"
   ]
  },
  {
   "cell_type": "code",
   "execution_count": 2,
   "id": "af75b52f-e0dc-4ea7-9aed-e9e67d9fd9a7",
   "metadata": {},
   "outputs": [
    {
     "ename": "NameError",
     "evalue": "name 'data' is not defined",
     "output_type": "error",
     "traceback": [
      "\u001b[0;31m---------------------------------------------------------------------------\u001b[0m",
      "\u001b[0;31mNameError\u001b[0m                                 Traceback (most recent call last)",
      "\u001b[0;32m/var/folders/hn/dvs4hsrx7nx9xwbshs3r5tzm0000gn/T/ipykernel_7054/3216168599.py\u001b[0m in \u001b[0;36m<module>\u001b[0;34m\u001b[0m\n\u001b[1;32m      1\u001b[0m \u001b[0mplt\u001b[0m\u001b[0;34m.\u001b[0m\u001b[0mfigure\u001b[0m\u001b[0;34m(\u001b[0m\u001b[0mfigsize\u001b[0m\u001b[0;34m=\u001b[0m\u001b[0;34m(\u001b[0m\u001b[0;36m10\u001b[0m\u001b[0;34m,\u001b[0m\u001b[0;36m8\u001b[0m\u001b[0;34m)\u001b[0m\u001b[0;34m)\u001b[0m\u001b[0;34m\u001b[0m\u001b[0;34m\u001b[0m\u001b[0m\n\u001b[1;32m      2\u001b[0m \u001b[0mplt\u001b[0m\u001b[0;34m.\u001b[0m\u001b[0mstyle\u001b[0m\u001b[0;34m.\u001b[0m\u001b[0muse\u001b[0m\u001b[0;34m(\u001b[0m\u001b[0;34m'dark_background'\u001b[0m\u001b[0;34m)\u001b[0m \u001b[0;31m#altered look\u001b[0m\u001b[0;34m\u001b[0m\u001b[0;34m\u001b[0m\u001b[0m\n\u001b[0;32m----> 3\u001b[0;31m \u001b[0mmean_df\u001b[0m \u001b[0;34m=\u001b[0m \u001b[0mdata\u001b[0m\u001b[0;34m.\u001b[0m\u001b[0mgroupby\u001b[0m\u001b[0;34m(\u001b[0m\u001b[0;34m[\u001b[0m\u001b[0;34m'ticker'\u001b[0m\u001b[0;34m,\u001b[0m \u001b[0;34m'date'\u001b[0m\u001b[0;34m]\u001b[0m\u001b[0;34m)\u001b[0m\u001b[0;34m.\u001b[0m\u001b[0mmean\u001b[0m\u001b[0;34m(\u001b[0m\u001b[0;34m)\u001b[0m\u001b[0;34m.\u001b[0m\u001b[0munstack\u001b[0m\u001b[0;34m(\u001b[0m\u001b[0;34m)\u001b[0m\u001b[0;34m\u001b[0m\u001b[0;34m\u001b[0m\u001b[0m\n\u001b[0m\u001b[1;32m      4\u001b[0m \u001b[0mmean_df\u001b[0m \u001b[0;34m=\u001b[0m \u001b[0mmean_df\u001b[0m\u001b[0;34m.\u001b[0m\u001b[0mxs\u001b[0m\u001b[0;34m(\u001b[0m\u001b[0;34m'compound'\u001b[0m\u001b[0;34m,\u001b[0m \u001b[0maxis\u001b[0m\u001b[0;34m=\u001b[0m\u001b[0;34m\"columns\"\u001b[0m\u001b[0;34m)\u001b[0m\u001b[0;34m.\u001b[0m\u001b[0mtranspose\u001b[0m\u001b[0;34m(\u001b[0m\u001b[0;34m)\u001b[0m\u001b[0;34m\u001b[0m\u001b[0;34m\u001b[0m\u001b[0m\n\u001b[1;32m      5\u001b[0m \u001b[0mmean_df\u001b[0m\u001b[0;34m.\u001b[0m\u001b[0mplot\u001b[0m\u001b[0;34m(\u001b[0m\u001b[0mkind\u001b[0m\u001b[0;34m=\u001b[0m\u001b[0;34m'line'\u001b[0m\u001b[0;34m)\u001b[0m\u001b[0;34m\u001b[0m\u001b[0;34m\u001b[0m\u001b[0m\n",
      "\u001b[0;31mNameError\u001b[0m: name 'data' is not defined"
     ]
    },
    {
     "data": {
      "text/plain": [
       "<Figure size 1000x800 with 0 Axes>"
      ]
     },
     "metadata": {},
     "output_type": "display_data"
    }
   ],
   "source": [
    "plt.figure(figsize=(10,8))\n",
    "plt.style.use('dark_background') #altered look\n",
    "mean_df = data.groupby(['ticker', 'date']).mean().unstack()\n",
    "mean_df = mean_df.xs('compound', axis=\"columns\").transpose()\n",
    "mean_df.plot(kind='line')\n",
    "plt.show()"
   ]
  },
  {
   "cell_type": "code",
   "execution_count": null,
   "id": "d12fb594-7cde-4f95-a3b1-3a6dee24f172",
   "metadata": {},
   "outputs": [],
   "source": []
  }
 ],
 "metadata": {
  "kernelspec": {
   "display_name": "Python 3 (ipykernel)",
   "language": "python",
   "name": "python3"
  },
  "language_info": {
   "codemirror_mode": {
    "name": "ipython",
    "version": 3
   },
   "file_extension": ".py",
   "mimetype": "text/x-python",
   "name": "python",
   "nbconvert_exporter": "python",
   "pygments_lexer": "ipython3",
   "version": "3.10.4"
  }
 },
 "nbformat": 4,
 "nbformat_minor": 5
}
