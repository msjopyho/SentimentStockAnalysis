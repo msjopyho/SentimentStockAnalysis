{
 "cells": [
  {
   "cell_type": "code",
   "execution_count": 1,
   "id": "2a048a5b-2941-4459-b9d3-c757ded37e5e",
   "metadata": {},
   "outputs": [],
   "source": [
    "import requests\n",
    "import pandas as pd\n",
    "headers = {\n",
    "    'user-agent': 'my-app'\n",
    "}\n",
    "\n",
    "\n",
    "def main(url):\n",
    "    with requests.Session() as req:\n",
    "        req.headers.update(headers)\n",
    "        allin = []\n",
    "        for t in ['AMZN','NFLX', 'AAPL', 'TSLA']:\n",
    "            params = {\n",
    "                't': t\n",
    "            }\n",
    "            r = req.get(url, params=params)\n",
    "            df = pd.read_html(r.content, attrs={'id': 'news-table'})[0]\n",
    "            df[2] = t\n",
    "            allin.append(df)\n",
    "        df = pd.concat(allin, ignore_index=True)\n",
    "        #print(df[2])\n",
    "        df.to_csv('data.csv', index=False)\n",
    "\n",
    "main('https://finviz.com/quote.ashx')"
   ]
  },
  {
   "cell_type": "code",
   "execution_count": 2,
   "id": "4c0d3b09-abcd-438f-8ab3-c7a7dfb8f1f1",
   "metadata": {},
   "outputs": [
    {
     "data": {
      "text/html": [
       "<div>\n",
       "<style scoped>\n",
       "    .dataframe tbody tr th:only-of-type {\n",
       "        vertical-align: middle;\n",
       "    }\n",
       "\n",
       "    .dataframe tbody tr th {\n",
       "        vertical-align: top;\n",
       "    }\n",
       "\n",
       "    .dataframe thead th {\n",
       "        text-align: right;\n",
       "    }\n",
       "</style>\n",
       "<table border=\"1\" class=\"dataframe\">\n",
       "  <thead>\n",
       "    <tr style=\"text-align: right;\">\n",
       "      <th></th>\n",
       "      <th>date_time</th>\n",
       "      <th>title</th>\n",
       "      <th>ticker</th>\n",
       "    </tr>\n",
       "  </thead>\n",
       "  <tbody>\n",
       "    <tr>\n",
       "      <th>0</th>\n",
       "      <td>0</td>\n",
       "      <td>1</td>\n",
       "      <td>2</td>\n",
       "    </tr>\n",
       "    <tr>\n",
       "      <th>1</th>\n",
       "      <td>Jan-17-23 01:18PM</td>\n",
       "      <td>Amazon will not cut jobs in Italy, unions say ...</td>\n",
       "      <td>AMZN</td>\n",
       "    </tr>\n",
       "  </tbody>\n",
       "</table>\n",
       "</div>"
      ],
      "text/plain": [
       "           date_time                                              title ticker\n",
       "0                  0                                                  1      2\n",
       "1  Jan-17-23 01:18PM  Amazon will not cut jobs in Italy, unions say ...   AMZN"
      ]
     },
     "execution_count": 2,
     "metadata": {},
     "output_type": "execute_result"
    }
   ],
   "source": [
    "df = pd.read_csv('data.csv', usecols=[0,1,2], names=['date_time', 'title','ticker'])\n",
    "# drop first row\n",
    "df.head(2)"
   ]
  },
  {
   "cell_type": "code",
   "execution_count": 3,
   "id": "b4208859-c1f9-4948-b3c9-413367cd18cb",
   "metadata": {},
   "outputs": [
    {
     "name": "stdout",
     "output_type": "stream",
     "text": [
      "0\n",
      "          date     time ticker  \\\n",
      "0            0        0      2   \n",
      "1    Jan-17-23  01:18PM   AMZN   \n",
      "2    Jan-17-23  11:30AM   AMZN   \n",
      "3    Jan-17-23  11:00AM   AMZN   \n",
      "4    Jan-17-23  10:38AM   AMZN   \n",
      "..         ...      ...    ...   \n",
      "408  Jan-13-23  12:28PM   TSLA   \n",
      "409  Jan-13-23  12:27PM   TSLA   \n",
      "410  Jan-13-23  12:23PM   TSLA   \n",
      "411  Jan-13-23  12:19PM   TSLA   \n",
      "412  Jan-13-23  12:07PM   TSLA   \n",
      "\n",
      "                                                 title  \n",
      "0                                                    1  \n",
      "1    Amazon will not cut jobs in Italy, unions say ...  \n",
      "2    IMDb Brings Coverage of the Sundance Film Fest...  \n",
      "3    3 Reasons Amazon Stock Is a No-Brainer Buy in ...  \n",
      "4    WWE stock upgraded at Wells Fargo as analysts ...  \n",
      "..                                                 ...  \n",
      "408  Top Wall Street Analyst Reacts to Tesla's Majo...  \n",
      "409  Why Rivian, GM, and Ford Stocks Fell on Tesla'...  \n",
      "410  Stock Market Rally Gains Steam As Inflation Co...  \n",
      "411  Tesla Plunges 4% On Price Cuts; Are Meme Stock...  \n",
      "412  Judge Hears Elon Musk Request to Relocate Tria...  \n",
      "\n",
      "[413 rows x 4 columns]\n"
     ]
    }
   ],
   "source": [
    "day = 0 #define to be used in loop\n",
    "time = 0 #defined to be used in loop\n",
    "print(day)\n",
    "\n",
    "parsed_data = []\n",
    "for i, row in df.iterrows():\n",
    "    title = df['title'].iloc[i]\n",
    "    ticker = df['ticker'].iloc[i]\n",
    "    date_data = df.iloc[i][0].split(' ')\n",
    "    if len(date_data) == 2:\n",
    "        day = date_data[0]\n",
    "        time = date_data[1]\n",
    "    else:\n",
    "        time = date_data[0]\n",
    "\n",
    "    parsed_data.append([day, time, ticker, title])\n",
    "\n",
    "clean_df = pd.DataFrame(parsed_data, columns=['date', 'time', 'ticker', 'title'])\n",
    "print(clean_df)"
   ]
  },
  {
   "cell_type": "code",
   "execution_count": 4,
   "id": "c698f1d5-5d64-4e60-852a-7c3975b08882",
   "metadata": {},
   "outputs": [],
   "source": [
    "clean_df.to_csv('clean_data.csv', index=False)\n",
    "data=pd.read_csv('clean_data.csv')"
   ]
  },
  {
   "cell_type": "code",
   "execution_count": 5,
   "id": "d731ef40-6eef-43fc-8072-9c9a14e883df",
   "metadata": {},
   "outputs": [],
   "source": [
    "data #not sure why title and ticker changed\n",
    "data.drop(index=data.index[0], axis=0, inplace=True)"
   ]
  },
  {
   "cell_type": "code",
   "execution_count": 6,
   "id": "9008b439-859a-4907-8c49-5c92158e7248",
   "metadata": {},
   "outputs": [],
   "source": [
    "# \"\"\"apply sentiment analysis\"\"\"\n",
    "from nltk.sentiment.vader import SentimentIntensityAnalyzer\n",
    "\n",
    "vader = SentimentIntensityAnalyzer()\n",
    "\n",
    "f = lambda title: vader.polarity_scores(title)['compound']\n",
    "data['compound'] = data['title'].apply(f)\n",
    "data['date'] = pd.to_datetime(data['date']).dt.date\n"
   ]
  },
  {
   "cell_type": "code",
   "execution_count": 7,
   "id": "1999637c-034b-43de-91bf-fa2d07dfc8ce",
   "metadata": {},
   "outputs": [
    {
     "data": {
      "text/html": [
       "<div>\n",
       "<style scoped>\n",
       "    .dataframe tbody tr th:only-of-type {\n",
       "        vertical-align: middle;\n",
       "    }\n",
       "\n",
       "    .dataframe tbody tr th {\n",
       "        vertical-align: top;\n",
       "    }\n",
       "\n",
       "    .dataframe thead th {\n",
       "        text-align: right;\n",
       "    }\n",
       "</style>\n",
       "<table border=\"1\" class=\"dataframe\">\n",
       "  <thead>\n",
       "    <tr style=\"text-align: right;\">\n",
       "      <th></th>\n",
       "      <th>date</th>\n",
       "      <th>time</th>\n",
       "      <th>ticker</th>\n",
       "      <th>title</th>\n",
       "      <th>compound</th>\n",
       "    </tr>\n",
       "  </thead>\n",
       "  <tbody>\n",
       "    <tr>\n",
       "      <th>1</th>\n",
       "      <td>2023-01-17</td>\n",
       "      <td>01:18PM</td>\n",
       "      <td>AMZN</td>\n",
       "      <td>Amazon will not cut jobs in Italy, unions say ...</td>\n",
       "      <td>0.3641</td>\n",
       "    </tr>\n",
       "    <tr>\n",
       "      <th>2</th>\n",
       "      <td>2023-01-17</td>\n",
       "      <td>11:30AM</td>\n",
       "      <td>AMZN</td>\n",
       "      <td>IMDb Brings Coverage of the Sundance Film Fest...</td>\n",
       "      <td>0.7184</td>\n",
       "    </tr>\n",
       "  </tbody>\n",
       "</table>\n",
       "</div>"
      ],
      "text/plain": [
       "         date     time ticker  \\\n",
       "1  2023-01-17  01:18PM   AMZN   \n",
       "2  2023-01-17  11:30AM   AMZN   \n",
       "\n",
       "                                               title  compound  \n",
       "1  Amazon will not cut jobs in Italy, unions say ...    0.3641  \n",
       "2  IMDb Brings Coverage of the Sundance Film Fest...    0.7184  "
      ]
     },
     "execution_count": 7,
     "metadata": {},
     "output_type": "execute_result"
    }
   ],
   "source": [
    "data.head(2)"
   ]
  },
  {
   "cell_type": "code",
   "execution_count": 8,
   "id": "a43b9f05-af0e-46cf-9863-d86e4dfb2874",
   "metadata": {},
   "outputs": [
    {
     "data": {
      "text/plain": [
       "<Figure size 10000x8000 with 0 Axes>"
      ]
     },
     "metadata": {},
     "output_type": "display_data"
    },
    {
     "data": {
      "image/png": "[encoded data removed]",
      "text/plain": [
       "<Figure size 640x480 with 1 Axes>"
      ]
     },
     "metadata": {},
     "output_type": "display_data"
    }
   ],
   "source": [
    "import matplotlib.pyplot as plt\n",
    "plt.figure(figsize=(100,80))\n",
    "mean_df = data.groupby(['ticker', 'date']).mean().unstack()\n",
    "mean_df = mean_df.xs('compound', axis=\"columns\").transpose()\n",
    "mean_df.plot(kind='bar')\n",
    "plt.show()"
   ]
  }
 ],
 "metadata": {
  "kernelspec": {
   "display_name": "Python 3 (ipykernel)",
   "language": "python",
   "name": "python3"
  },
  "language_info": {
   "codemirror_mode": {
    "name": "ipython",
    "version": 3
   },
   "file_extension": ".py",
   "mimetype": "text/x-python",
   "name": "python",
   "nbconvert_exporter": "python",
   "pygments_lexer": "ipython3",
   "version": "3.10.4"
  }
 },
 "nbformat": 4,
 "nbformat_minor": 5
}
